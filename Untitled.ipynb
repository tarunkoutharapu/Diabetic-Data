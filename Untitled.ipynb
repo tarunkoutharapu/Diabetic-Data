{
 "cells": [
  {
   "cell_type": "code",
   "execution_count": 1,
   "metadata": {},
   "outputs": [],
   "source": [
    "import pandas as pd\n",
    "import numpy as np\n",
    "import matplotlib.pyplot as plt\n",
    "import seaborn as sns\n"
   ]
  },
  {
   "cell_type": "code",
   "execution_count": 3,
   "metadata": {},
   "outputs": [],
   "source": [
    "df= pd.read_csv('diabetic_data.csv')"
   ]
  },
  {
   "cell_type": "code",
   "execution_count": 6,
   "metadata": {},
   "outputs": [
    {
     "data": {
      "text/html": [
       "<div>\n",
       "<style scoped>\n",
       "    .dataframe tbody tr th:only-of-type {\n",
       "        vertical-align: middle;\n",
       "    }\n",
       "\n",
       "    .dataframe tbody tr th {\n",
       "        vertical-align: top;\n",
       "    }\n",
       "\n",
       "    .dataframe thead th {\n",
       "        text-align: right;\n",
       "    }\n",
       "</style>\n",
       "<table border=\"1\" class=\"dataframe\">\n",
       "  <thead>\n",
       "    <tr style=\"text-align: right;\">\n",
       "      <th></th>\n",
       "      <th>encounter_id</th>\n",
       "      <th>patient_nbr</th>\n",
       "      <th>race</th>\n",
       "      <th>gender</th>\n",
       "      <th>age</th>\n",
       "      <th>weight</th>\n",
       "      <th>admission_type_id</th>\n",
       "      <th>discharge_disposition_id</th>\n",
       "      <th>admission_source_id</th>\n",
       "      <th>time_in_hospital</th>\n",
       "      <th>...</th>\n",
       "      <th>citoglipton</th>\n",
       "      <th>insulin</th>\n",
       "      <th>glyburide-metformin</th>\n",
       "      <th>glipizide-metformin</th>\n",
       "      <th>glimepiride-pioglitazone</th>\n",
       "      <th>metformin-rosiglitazone</th>\n",
       "      <th>metformin-pioglitazone</th>\n",
       "      <th>change</th>\n",
       "      <th>diabetesMed</th>\n",
       "      <th>readmitted</th>\n",
       "    </tr>\n",
       "  </thead>\n",
       "  <tbody>\n",
       "    <tr>\n",
       "      <th>0</th>\n",
       "      <td>2278392</td>\n",
       "      <td>8222157</td>\n",
       "      <td>Caucasian</td>\n",
       "      <td>Female</td>\n",
       "      <td>[0-10)</td>\n",
       "      <td>?</td>\n",
       "      <td>6</td>\n",
       "      <td>25</td>\n",
       "      <td>1</td>\n",
       "      <td>1</td>\n",
       "      <td>...</td>\n",
       "      <td>No</td>\n",
       "      <td>No</td>\n",
       "      <td>No</td>\n",
       "      <td>No</td>\n",
       "      <td>No</td>\n",
       "      <td>No</td>\n",
       "      <td>No</td>\n",
       "      <td>No</td>\n",
       "      <td>No</td>\n",
       "      <td>NO</td>\n",
       "    </tr>\n",
       "    <tr>\n",
       "      <th>1</th>\n",
       "      <td>149190</td>\n",
       "      <td>55629189</td>\n",
       "      <td>Caucasian</td>\n",
       "      <td>Female</td>\n",
       "      <td>[10-20)</td>\n",
       "      <td>?</td>\n",
       "      <td>1</td>\n",
       "      <td>1</td>\n",
       "      <td>7</td>\n",
       "      <td>3</td>\n",
       "      <td>...</td>\n",
       "      <td>No</td>\n",
       "      <td>Up</td>\n",
       "      <td>No</td>\n",
       "      <td>No</td>\n",
       "      <td>No</td>\n",
       "      <td>No</td>\n",
       "      <td>No</td>\n",
       "      <td>Ch</td>\n",
       "      <td>Yes</td>\n",
       "      <td>&gt;30</td>\n",
       "    </tr>\n",
       "    <tr>\n",
       "      <th>2</th>\n",
       "      <td>64410</td>\n",
       "      <td>86047875</td>\n",
       "      <td>AfricanAmerican</td>\n",
       "      <td>Female</td>\n",
       "      <td>[20-30)</td>\n",
       "      <td>?</td>\n",
       "      <td>1</td>\n",
       "      <td>1</td>\n",
       "      <td>7</td>\n",
       "      <td>2</td>\n",
       "      <td>...</td>\n",
       "      <td>No</td>\n",
       "      <td>No</td>\n",
       "      <td>No</td>\n",
       "      <td>No</td>\n",
       "      <td>No</td>\n",
       "      <td>No</td>\n",
       "      <td>No</td>\n",
       "      <td>No</td>\n",
       "      <td>Yes</td>\n",
       "      <td>NO</td>\n",
       "    </tr>\n",
       "    <tr>\n",
       "      <th>3</th>\n",
       "      <td>500364</td>\n",
       "      <td>82442376</td>\n",
       "      <td>Caucasian</td>\n",
       "      <td>Male</td>\n",
       "      <td>[30-40)</td>\n",
       "      <td>?</td>\n",
       "      <td>1</td>\n",
       "      <td>1</td>\n",
       "      <td>7</td>\n",
       "      <td>2</td>\n",
       "      <td>...</td>\n",
       "      <td>No</td>\n",
       "      <td>Up</td>\n",
       "      <td>No</td>\n",
       "      <td>No</td>\n",
       "      <td>No</td>\n",
       "      <td>No</td>\n",
       "      <td>No</td>\n",
       "      <td>Ch</td>\n",
       "      <td>Yes</td>\n",
       "      <td>NO</td>\n",
       "    </tr>\n",
       "    <tr>\n",
       "      <th>4</th>\n",
       "      <td>16680</td>\n",
       "      <td>42519267</td>\n",
       "      <td>Caucasian</td>\n",
       "      <td>Male</td>\n",
       "      <td>[40-50)</td>\n",
       "      <td>?</td>\n",
       "      <td>1</td>\n",
       "      <td>1</td>\n",
       "      <td>7</td>\n",
       "      <td>1</td>\n",
       "      <td>...</td>\n",
       "      <td>No</td>\n",
       "      <td>Steady</td>\n",
       "      <td>No</td>\n",
       "      <td>No</td>\n",
       "      <td>No</td>\n",
       "      <td>No</td>\n",
       "      <td>No</td>\n",
       "      <td>Ch</td>\n",
       "      <td>Yes</td>\n",
       "      <td>NO</td>\n",
       "    </tr>\n",
       "  </tbody>\n",
       "</table>\n",
       "<p>5 rows × 50 columns</p>\n",
       "</div>"
      ],
      "text/plain": [
       "   encounter_id  patient_nbr             race  gender      age weight  \\\n",
       "0       2278392      8222157        Caucasian  Female   [0-10)      ?   \n",
       "1        149190     55629189        Caucasian  Female  [10-20)      ?   \n",
       "2         64410     86047875  AfricanAmerican  Female  [20-30)      ?   \n",
       "3        500364     82442376        Caucasian    Male  [30-40)      ?   \n",
       "4         16680     42519267        Caucasian    Male  [40-50)      ?   \n",
       "\n",
       "   admission_type_id  discharge_disposition_id  admission_source_id  \\\n",
       "0                  6                        25                    1   \n",
       "1                  1                         1                    7   \n",
       "2                  1                         1                    7   \n",
       "3                  1                         1                    7   \n",
       "4                  1                         1                    7   \n",
       "\n",
       "   time_in_hospital  ... citoglipton insulin  glyburide-metformin  \\\n",
       "0                 1  ...          No      No                   No   \n",
       "1                 3  ...          No      Up                   No   \n",
       "2                 2  ...          No      No                   No   \n",
       "3                 2  ...          No      Up                   No   \n",
       "4                 1  ...          No  Steady                   No   \n",
       "\n",
       "   glipizide-metformin  glimepiride-pioglitazone  metformin-rosiglitazone  \\\n",
       "0                   No                        No                       No   \n",
       "1                   No                        No                       No   \n",
       "2                   No                        No                       No   \n",
       "3                   No                        No                       No   \n",
       "4                   No                        No                       No   \n",
       "\n",
       "   metformin-pioglitazone  change diabetesMed readmitted  \n",
       "0                      No      No          No         NO  \n",
       "1                      No      Ch         Yes        >30  \n",
       "2                      No      No         Yes         NO  \n",
       "3                      No      Ch         Yes         NO  \n",
       "4                      No      Ch         Yes         NO  \n",
       "\n",
       "[5 rows x 50 columns]"
      ]
     },
     "execution_count": 6,
     "metadata": {},
     "output_type": "execute_result"
    }
   ],
   "source": [
    "df.head()"
   ]
  },
  {
   "cell_type": "code",
   "execution_count": 5,
   "metadata": {},
   "outputs": [
    {
     "name": "stdout",
     "output_type": "stream",
     "text": [
      "<class 'pandas.core.frame.DataFrame'>\n",
      "RangeIndex: 101766 entries, 0 to 101765\n",
      "Data columns (total 50 columns):\n",
      "encounter_id                101766 non-null int64\n",
      "patient_nbr                 101766 non-null int64\n",
      "race                        101766 non-null object\n",
      "gender                      101766 non-null object\n",
      "age                         101766 non-null object\n",
      "weight                      101766 non-null object\n",
      "admission_type_id           101766 non-null int64\n",
      "discharge_disposition_id    101766 non-null int64\n",
      "admission_source_id         101766 non-null int64\n",
      "time_in_hospital            101766 non-null int64\n",
      "payer_code                  101766 non-null object\n",
      "medical_specialty           101766 non-null object\n",
      "num_lab_procedures          101766 non-null int64\n",
      "num_procedures              101766 non-null int64\n",
      "num_medications             101766 non-null int64\n",
      "number_outpatient           101766 non-null int64\n",
      "number_emergency            101766 non-null int64\n",
      "number_inpatient            101766 non-null int64\n",
      "diag_1                      101766 non-null object\n",
      "diag_2                      101766 non-null object\n",
      "diag_3                      101766 non-null object\n",
      "number_diagnoses            101766 non-null int64\n",
      "max_glu_serum               101766 non-null object\n",
      "A1Cresult                   101766 non-null object\n",
      "metformin                   101766 non-null object\n",
      "repaglinide                 101766 non-null object\n",
      "nateglinide                 101766 non-null object\n",
      "chlorpropamide              101766 non-null object\n",
      "glimepiride                 101766 non-null object\n",
      "acetohexamide               101766 non-null object\n",
      "glipizide                   101766 non-null object\n",
      "glyburide                   101766 non-null object\n",
      "tolbutamide                 101766 non-null object\n",
      "pioglitazone                101766 non-null object\n",
      "rosiglitazone               101766 non-null object\n",
      "acarbose                    101766 non-null object\n",
      "miglitol                    101766 non-null object\n",
      "troglitazone                101766 non-null object\n",
      "tolazamide                  101766 non-null object\n",
      "examide                     101766 non-null object\n",
      "citoglipton                 101766 non-null object\n",
      "insulin                     101766 non-null object\n",
      "glyburide-metformin         101766 non-null object\n",
      "glipizide-metformin         101766 non-null object\n",
      "glimepiride-pioglitazone    101766 non-null object\n",
      "metformin-rosiglitazone     101766 non-null object\n",
      "metformin-pioglitazone      101766 non-null object\n",
      "change                      101766 non-null object\n",
      "diabetesMed                 101766 non-null object\n",
      "readmitted                  101766 non-null object\n",
      "dtypes: int64(13), object(37)\n",
      "memory usage: 38.8+ MB\n"
     ]
    }
   ],
   "source": [
    "df.info()"
   ]
  },
  {
   "cell_type": "code",
   "execution_count": 7,
   "metadata": {},
   "outputs": [
    {
     "data": {
      "text/plain": [
       "(101766, 50)"
      ]
     },
     "execution_count": 7,
     "metadata": {},
     "output_type": "execute_result"
    }
   ],
   "source": [
    "df.shape"
   ]
  },
  {
   "cell_type": "code",
   "execution_count": 9,
   "metadata": {},
   "outputs": [],
   "source": [
    "num_cols = df.select_dtypes(exclude='object')\n",
    "cat_cols=df.select_dtypes(include='object')"
   ]
  },
  {
   "cell_type": "code",
   "execution_count": 30,
   "metadata": {},
   "outputs": [
    {
     "name": "stdout",
     "output_type": "stream",
     "text": [
      "Column Name : race \n",
      "\n",
      "No of Categories in the column race :- 6 \n",
      "\n",
      "Caucasian          76099\n",
      "AfricanAmerican    19210\n",
      "?                   2273\n",
      "Hispanic            2037\n",
      "Other               1506\n",
      "Asian                641\n",
      "Name: race, dtype: int64 \n",
      " ---------------------------------------------\n",
      "Column Name : gender \n",
      "\n",
      "No of Categories in the column gender :- 3 \n",
      "\n",
      "Female             54708\n",
      "Male               47055\n",
      "Unknown/Invalid        3\n",
      "Name: gender, dtype: int64 \n",
      " ---------------------------------------------\n",
      "Column Name : age \n",
      "\n",
      "No of Categories in the column age :- 10 \n",
      "\n",
      "[70-80)     26068\n",
      "[60-70)     22483\n",
      "[50-60)     17256\n",
      "[80-90)     17197\n",
      "[40-50)      9685\n",
      "[30-40)      3775\n",
      "[90-100)     2793\n",
      "[20-30)      1657\n",
      "[10-20)       691\n",
      "[0-10)        161\n",
      "Name: age, dtype: int64 \n",
      " ---------------------------------------------\n",
      "Column Name : weight \n",
      "\n",
      "No of Categories in the column weight :- 10 \n",
      "\n",
      "?            98569\n",
      "[75-100)      1336\n",
      "[50-75)        897\n",
      "[100-125)      625\n",
      "[125-150)      145\n",
      "[25-50)         97\n",
      "[0-25)          48\n",
      "[150-175)       35\n",
      "[175-200)       11\n",
      ">200             3\n",
      "Name: weight, dtype: int64 \n",
      " ---------------------------------------------\n",
      "Column Name : payer_code \n",
      "\n",
      "No of Categories in the column payer_code :- 18 \n",
      "\n",
      "?     40256\n",
      "MC    32439\n",
      "HM     6274\n",
      "SP     5007\n",
      "BC     4655\n",
      "MD     3532\n",
      "CP     2533\n",
      "UN     2448\n",
      "CM     1937\n",
      "OG     1033\n",
      "PO      592\n",
      "DM      549\n",
      "CH      146\n",
      "WC      135\n",
      "OT       95\n",
      "MP       79\n",
      "SI       55\n",
      "FR        1\n",
      "Name: payer_code, dtype: int64 \n",
      " ---------------------------------------------\n",
      "Column Name : medical_specialty \n",
      "\n",
      "No of Categories in the column medical_specialty :- 73 \n",
      "\n",
      "?                                    49949\n",
      "InternalMedicine                     14635\n",
      "Emergency/Trauma                      7565\n",
      "Family/GeneralPractice                7440\n",
      "Cardiology                            5352\n",
      "Surgery-General                       3099\n",
      "Nephrology                            1613\n",
      "Orthopedics                           1400\n",
      "Orthopedics-Reconstructive            1233\n",
      "Radiologist                           1140\n",
      "Pulmonology                            871\n",
      "Psychiatry                             854\n",
      "Urology                                685\n",
      "ObstetricsandGynecology                671\n",
      "Surgery-Cardiovascular/Thoracic        652\n",
      "Gastroenterology                       564\n",
      "Surgery-Vascular                       533\n",
      "Surgery-Neuro                          468\n",
      "PhysicalMedicineandRehabilitation      391\n",
      "Oncology                               348\n",
      "Pediatrics                             254\n",
      "Hematology/Oncology                    207\n",
      "Neurology                              203\n",
      "Pediatrics-Endocrinology               159\n",
      "Otolaryngology                         125\n",
      "Endocrinology                          120\n",
      "Surgery-Thoracic                       109\n",
      "Psychology                             101\n",
      "Podiatry                               100\n",
      "Surgery-Cardiovascular                  98\n",
      "                                     ...  \n",
      "Obstetrics                              19\n",
      "Anesthesiology-Pediatric                19\n",
      "Rheumatology                            17\n",
      "Pathology                               17\n",
      "OutreachServices                        12\n",
      "Anesthesiology                          12\n",
      "Surgery-Maxillofacial                   11\n",
      "Surgery-Colon&Rectal                    11\n",
      "PhysicianNotFound                       11\n",
      "Pediatrics-Neurology                    10\n",
      "Surgery-Pediatric                        8\n",
      "Endocrinology-Metabolism                 8\n",
      "Psychiatry-Child/Adolescent              7\n",
      "AllergyandImmunology                     7\n",
      "Cardiology-Pediatric                     7\n",
      "DCPTEAM                                  6\n",
      "Dentistry                                4\n",
      "Pediatrics-Hematology-Oncology           4\n",
      "Pediatrics-AllergyandImmunology          3\n",
      "Pediatrics-EmergencyMedicine             3\n",
      "Resident                                 2\n",
      "Speech                                   1\n",
      "Neurophysiology                          1\n",
      "Proctology                               1\n",
      "SportsMedicine                           1\n",
      "Surgery-PlasticwithinHeadandNeck         1\n",
      "Pediatrics-InfectiousDiseases            1\n",
      "Psychiatry-Addictive                     1\n",
      "Perinatology                             1\n",
      "Dermatology                              1\n",
      "Name: medical_specialty, Length: 73, dtype: int64 \n",
      " ---------------------------------------------\n",
      "Column Name : diag_1 \n",
      "\n",
      "No of Categories in the column diag_1 :- 717 \n",
      "\n",
      "428       6862\n",
      "414       6581\n",
      "786       4016\n",
      "410       3614\n",
      "486       3508\n",
      "427       2766\n",
      "491       2275\n",
      "715       2151\n",
      "682       2042\n",
      "434       2028\n",
      "780       2019\n",
      "996       1967\n",
      "276       1889\n",
      "38        1688\n",
      "250.8     1680\n",
      "599       1595\n",
      "584       1520\n",
      "V57       1207\n",
      "250.6     1183\n",
      "518       1115\n",
      "820       1082\n",
      "577       1057\n",
      "493       1056\n",
      "435       1016\n",
      "562        989\n",
      "574        965\n",
      "296        896\n",
      "560        876\n",
      "250.7      871\n",
      "250.13     851\n",
      "          ... \n",
      "372          1\n",
      "145          1\n",
      "471          1\n",
      "704          1\n",
      "375          1\n",
      "637          1\n",
      "832          1\n",
      "523          1\n",
      "671          1\n",
      "412          1\n",
      "V70          1\n",
      "V51          1\n",
      "61           1\n",
      "373          1\n",
      "98           1\n",
      "919          1\n",
      "114          1\n",
      "870          1\n",
      "691          1\n",
      "885          1\n",
      "827          1\n",
      "833          1\n",
      "477          1\n",
      "318          1\n",
      "955          1\n",
      "939          1\n",
      "97           1\n",
      "974          1\n",
      "994          1\n",
      "250.51       1\n",
      "Name: diag_1, Length: 717, dtype: int64 \n",
      " ---------------------------------------------\n",
      "Column Name : diag_2 \n",
      "\n",
      "No of Categories in the column diag_2 :- 749 \n",
      "\n",
      "276       6752\n",
      "428       6662\n",
      "250       6071\n",
      "427       5036\n",
      "401       3736\n",
      "496       3305\n",
      "599       3288\n",
      "403       2823\n",
      "414       2650\n",
      "411       2566\n",
      "250.02    2074\n",
      "707       1999\n",
      "585       1871\n",
      "584       1649\n",
      "491       1545\n",
      "250.01    1523\n",
      "285       1520\n",
      "780       1491\n",
      "425       1434\n",
      "682       1433\n",
      "486       1379\n",
      "518       1355\n",
      "424       1071\n",
      "413       1042\n",
      "250.6      895\n",
      "493        881\n",
      "305        702\n",
      "786        644\n",
      "280        606\n",
      "998        571\n",
      "          ... \n",
      "195          1\n",
      "752          1\n",
      "270          1\n",
      "963          1\n",
      "460          1\n",
      "580          1\n",
      "268          1\n",
      "955          1\n",
      "670          1\n",
      "E965         1\n",
      "140          1\n",
      "520          1\n",
      "271          1\n",
      "977          1\n",
      "46           1\n",
      "927          1\n",
      "942          1\n",
      "88           1\n",
      "E817         1\n",
      "E890         1\n",
      "E945         1\n",
      "192          1\n",
      "944          1\n",
      "173          1\n",
      "V03          1\n",
      "302          1\n",
      "347          1\n",
      "915          1\n",
      "843          1\n",
      "908          1\n",
      "Name: diag_2, Length: 749, dtype: int64 \n",
      " ---------------------------------------------\n",
      "Column Name : diag_3 \n",
      "\n",
      "No of Categories in the column diag_3 :- 790 \n",
      "\n",
      "250       11555\n",
      "401        8289\n",
      "276        5175\n",
      "428        4577\n",
      "427        3955\n",
      "414        3664\n",
      "496        2605\n",
      "403        2357\n",
      "585        1992\n",
      "272        1969\n",
      "599        1941\n",
      "?          1423\n",
      "V45        1389\n",
      "250.02     1369\n",
      "707        1360\n",
      "780        1334\n",
      "285        1200\n",
      "425        1136\n",
      "250.6      1080\n",
      "424        1063\n",
      "584         963\n",
      "305         924\n",
      "250.01      915\n",
      "682         887\n",
      "518         854\n",
      "41          727\n",
      "493         694\n",
      "278         680\n",
      "530         625\n",
      "786         584\n",
      "          ...  \n",
      "E822          1\n",
      "387           1\n",
      "226           1\n",
      "E815          1\n",
      "732           1\n",
      "871           1\n",
      "49            1\n",
      "893           1\n",
      "115           1\n",
      "542           1\n",
      "463           1\n",
      "987           1\n",
      "972           1\n",
      "970           1\n",
      "863           1\n",
      "657           1\n",
      "195           1\n",
      "308           1\n",
      "75            1\n",
      "215           1\n",
      "E825          1\n",
      "744           1\n",
      "877           1\n",
      "669           1\n",
      "872           1\n",
      "V01           1\n",
      "E922          1\n",
      "17            1\n",
      "671           1\n",
      "674           1\n",
      "Name: diag_3, Length: 790, dtype: int64 \n",
      " ---------------------------------------------\n",
      "Column Name : max_glu_serum \n",
      "\n",
      "No of Categories in the column max_glu_serum :- 4 \n",
      "\n",
      "None    96420\n",
      "Norm     2597\n",
      ">200     1485\n",
      ">300     1264\n",
      "Name: max_glu_serum, dtype: int64 \n",
      " ---------------------------------------------\n",
      "Column Name : A1Cresult \n",
      "\n",
      "No of Categories in the column A1Cresult :- 4 \n",
      "\n",
      "None    84748\n",
      ">8       8216\n",
      "Norm     4990\n",
      ">7       3812\n",
      "Name: A1Cresult, dtype: int64 \n",
      " ---------------------------------------------\n",
      "Column Name : metformin \n",
      "\n",
      "No of Categories in the column metformin :- 4 \n",
      "\n",
      "No        81778\n",
      "Steady    18346\n",
      "Up         1067\n",
      "Down        575\n",
      "Name: metformin, dtype: int64 \n",
      " ---------------------------------------------\n",
      "Column Name : repaglinide \n",
      "\n",
      "No of Categories in the column repaglinide :- 4 \n",
      "\n",
      "No        100227\n",
      "Steady      1384\n",
      "Up           110\n",
      "Down          45\n",
      "Name: repaglinide, dtype: int64 \n",
      " ---------------------------------------------\n",
      "Column Name : nateglinide \n",
      "\n",
      "No of Categories in the column nateglinide :- 4 \n",
      "\n",
      "No        101063\n",
      "Steady       668\n",
      "Up            24\n",
      "Down          11\n",
      "Name: nateglinide, dtype: int64 \n",
      " ---------------------------------------------\n",
      "Column Name : chlorpropamide \n",
      "\n",
      "No of Categories in the column chlorpropamide :- 4 \n",
      "\n"
     ]
    },
    {
     "name": "stdout",
     "output_type": "stream",
     "text": [
      "No        101680\n",
      "Steady        79\n",
      "Up             6\n",
      "Down           1\n",
      "Name: chlorpropamide, dtype: int64 \n",
      " ---------------------------------------------\n",
      "Column Name : glimepiride \n",
      "\n",
      "No of Categories in the column glimepiride :- 4 \n",
      "\n",
      "No        96575\n",
      "Steady     4670\n",
      "Up          327\n",
      "Down        194\n",
      "Name: glimepiride, dtype: int64 \n",
      " ---------------------------------------------\n",
      "Column Name : acetohexamide \n",
      "\n",
      "No of Categories in the column acetohexamide :- 2 \n",
      "\n",
      "No        101765\n",
      "Steady         1\n",
      "Name: acetohexamide, dtype: int64 \n",
      " ---------------------------------------------\n",
      "Column Name : glipizide \n",
      "\n",
      "No of Categories in the column glipizide :- 4 \n",
      "\n",
      "No        89080\n",
      "Steady    11356\n",
      "Up          770\n",
      "Down        560\n",
      "Name: glipizide, dtype: int64 \n",
      " ---------------------------------------------\n",
      "Column Name : glyburide \n",
      "\n",
      "No of Categories in the column glyburide :- 4 \n",
      "\n",
      "No        91116\n",
      "Steady     9274\n",
      "Up          812\n",
      "Down        564\n",
      "Name: glyburide, dtype: int64 \n",
      " ---------------------------------------------\n",
      "Column Name : tolbutamide \n",
      "\n",
      "No of Categories in the column tolbutamide :- 2 \n",
      "\n",
      "No        101743\n",
      "Steady        23\n",
      "Name: tolbutamide, dtype: int64 \n",
      " ---------------------------------------------\n",
      "Column Name : pioglitazone \n",
      "\n",
      "No of Categories in the column pioglitazone :- 4 \n",
      "\n",
      "No        94438\n",
      "Steady     6976\n",
      "Up          234\n",
      "Down        118\n",
      "Name: pioglitazone, dtype: int64 \n",
      " ---------------------------------------------\n",
      "Column Name : rosiglitazone \n",
      "\n",
      "No of Categories in the column rosiglitazone :- 4 \n",
      "\n",
      "No        95401\n",
      "Steady     6100\n",
      "Up          178\n",
      "Down         87\n",
      "Name: rosiglitazone, dtype: int64 \n",
      " ---------------------------------------------\n",
      "Column Name : acarbose \n",
      "\n",
      "No of Categories in the column acarbose :- 4 \n",
      "\n",
      "No        101458\n",
      "Steady       295\n",
      "Up            10\n",
      "Down           3\n",
      "Name: acarbose, dtype: int64 \n",
      " ---------------------------------------------\n",
      "Column Name : miglitol \n",
      "\n",
      "No of Categories in the column miglitol :- 4 \n",
      "\n",
      "No        101728\n",
      "Steady        31\n",
      "Down           5\n",
      "Up             2\n",
      "Name: miglitol, dtype: int64 \n",
      " ---------------------------------------------\n",
      "Column Name : troglitazone \n",
      "\n",
      "No of Categories in the column troglitazone :- 2 \n",
      "\n",
      "No        101763\n",
      "Steady         3\n",
      "Name: troglitazone, dtype: int64 \n",
      " ---------------------------------------------\n",
      "Column Name : tolazamide \n",
      "\n",
      "No of Categories in the column tolazamide :- 3 \n",
      "\n",
      "No        101727\n",
      "Steady        38\n",
      "Up             1\n",
      "Name: tolazamide, dtype: int64 \n",
      " ---------------------------------------------\n",
      "Column Name : examide \n",
      "\n",
      "No of Categories in the column examide :- 1 \n",
      "\n",
      "No    101766\n",
      "Name: examide, dtype: int64 \n",
      " ---------------------------------------------\n",
      "Column Name : citoglipton \n",
      "\n",
      "No of Categories in the column citoglipton :- 1 \n",
      "\n",
      "No    101766\n",
      "Name: citoglipton, dtype: int64 \n",
      " ---------------------------------------------\n",
      "Column Name : insulin \n",
      "\n",
      "No of Categories in the column insulin :- 4 \n",
      "\n",
      "No        47383\n",
      "Steady    30849\n",
      "Down      12218\n",
      "Up        11316\n",
      "Name: insulin, dtype: int64 \n",
      " ---------------------------------------------\n",
      "Column Name : glyburide-metformin \n",
      "\n",
      "No of Categories in the column glyburide-metformin :- 4 \n",
      "\n",
      "No        101060\n",
      "Steady       692\n",
      "Up             8\n",
      "Down           6\n",
      "Name: glyburide-metformin, dtype: int64 \n",
      " ---------------------------------------------\n",
      "Column Name : glipizide-metformin \n",
      "\n",
      "No of Categories in the column glipizide-metformin :- 2 \n",
      "\n",
      "No        101753\n",
      "Steady        13\n",
      "Name: glipizide-metformin, dtype: int64 \n",
      " ---------------------------------------------\n",
      "Column Name : glimepiride-pioglitazone \n",
      "\n",
      "No of Categories in the column glimepiride-pioglitazone :- 2 \n",
      "\n",
      "No        101765\n",
      "Steady         1\n",
      "Name: glimepiride-pioglitazone, dtype: int64 \n",
      " ---------------------------------------------\n",
      "Column Name : metformin-rosiglitazone \n",
      "\n",
      "No of Categories in the column metformin-rosiglitazone :- 2 \n",
      "\n",
      "No        101764\n",
      "Steady         2\n",
      "Name: metformin-rosiglitazone, dtype: int64 \n",
      " ---------------------------------------------\n",
      "Column Name : metformin-pioglitazone \n",
      "\n",
      "No of Categories in the column metformin-pioglitazone :- 2 \n",
      "\n",
      "No        101765\n",
      "Steady         1\n",
      "Name: metformin-pioglitazone, dtype: int64 \n",
      " ---------------------------------------------\n",
      "Column Name : change \n",
      "\n",
      "No of Categories in the column change :- 2 \n",
      "\n",
      "No    54755\n",
      "Ch    47011\n",
      "Name: change, dtype: int64 \n",
      " ---------------------------------------------\n",
      "Column Name : diabetesMed \n",
      "\n",
      "No of Categories in the column diabetesMed :- 2 \n",
      "\n",
      "Yes    78363\n",
      "No     23403\n",
      "Name: diabetesMed, dtype: int64 \n",
      " ---------------------------------------------\n",
      "Column Name : readmitted \n",
      "\n",
      "No of Categories in the column readmitted :- 3 \n",
      "\n",
      "NO     54864\n",
      ">30    35545\n",
      "<30    11357\n",
      "Name: readmitted, dtype: int64 \n",
      " ---------------------------------------------\n"
     ]
    }
   ],
   "source": [
    "for i in cat_cols:\n",
    "    print('Column Name :',i,'\\n')\n",
    "    print('No of Categories in the column',i,\":-\",len(df[i].value_counts()),'\\n')\n",
    "    print(df[i].value_counts(),'\\n ---------------------------------------------')"
   ]
  },
  {
   "cell_type": "code",
   "execution_count": null,
   "metadata": {},
   "outputs": [],
   "source": []
  },
  {
   "cell_type": "code",
   "execution_count": 41,
   "metadata": {},
   "outputs": [
    {
     "data": {
      "text/plain": [
       "Index(['encounter_id', 'patient_nbr', 'race', 'gender', 'age', 'weight',\n",
       "       'admission_type_id', 'discharge_disposition_id', 'admission_source_id',\n",
       "       'time_in_hospital', 'payer_code', 'medical_specialty',\n",
       "       'num_lab_procedures', 'num_procedures', 'num_medications',\n",
       "       'number_outpatient', 'number_emergency', 'number_inpatient', 'diag_1',\n",
       "       'diag_2', 'diag_3', 'number_diagnoses', 'max_glu_serum', 'A1Cresult',\n",
       "       'metformin', 'repaglinide', 'nateglinide', 'chlorpropamide',\n",
       "       'glimepiride', 'acetohexamide', 'glipizide', 'glyburide', 'tolbutamide',\n",
       "       'pioglitazone', 'rosiglitazone', 'acarbose', 'miglitol', 'troglitazone',\n",
       "       'tolazamide', 'examide', 'citoglipton', 'insulin',\n",
       "       'glyburide-metformin', 'glipizide-metformin',\n",
       "       'glimepiride-pioglitazone', 'metformin-rosiglitazone',\n",
       "       'metformin-pioglitazone', 'change', 'diabetesMed', 'readmitted'],\n",
       "      dtype='object')"
      ]
     },
     "execution_count": 41,
     "metadata": {},
     "output_type": "execute_result"
    }
   ],
   "source": [
    "df.columns"
   ]
  },
  {
   "cell_type": "code",
   "execution_count": 42,
   "metadata": {},
   "outputs": [],
   "source": [
    "medic_col =['metformin', 'repaglinide', 'nateglinide', 'chlorpropamide',\n",
    "       'glimepiride', 'acetohexamide', 'glipizide', 'glyburide', 'tolbutamide',\n",
    "       'pioglitazone', 'rosiglitazone', 'acarbose', 'miglitol', 'troglitazone',\n",
    "       'tolazamide', 'examide', 'citoglipton', 'insulin',\n",
    "       'glyburide-metformin', 'glipizide-metformin',\n",
    "       'glimepiride-pioglitazone', 'metformin-rosiglitazone',\n",
    "       'metformin-pioglitazone']"
   ]
  },
  {
   "cell_type": "code",
   "execution_count": 45,
   "metadata": {},
   "outputs": [
    {
     "name": "stdout",
     "output_type": "stream",
     "text": [
      "metformin\n"
     ]
    },
    {
     "data": {
      "image/png": "[encoded data removed]",
      "text/plain": [
       "<Figure size 432x288 with 1 Axes>"
      ]
     },
     "metadata": {
      "needs_background": "light"
     },
     "output_type": "display_data"
    },
    {
     "name": "stdout",
     "output_type": "stream",
     "text": [
      "repaglinide\n"
     ]
    },
    {
     "data": {
      "image/png": "[encoded data removed]",
      "text/plain": [
       "<Figure size 432x288 with 1 Axes>"
      ]
     },
     "metadata": {
      "needs_background": "light"
     },
     "output_type": "display_data"
    },
    {
     "name": "stdout",
     "output_type": "stream",
     "text": [
      "nateglinide\n"
     ]
    },
    {
     "data": {
      "image/png": "[encoded data removed]",
      "text/plain": [
       "<Figure size 432x288 with 1 Axes>"
      ]
     },
     "metadata": {
      "needs_background": "light"
     },
     "output_type": "display_data"
    },
    {
     "name": "stdout",
     "output_type": "stream",
     "text": [
      "chlorpropamide\n"
     ]
    },
    {
     "data": {
      "image/png": "[encoded data removed]",
      "text/plain": [
       "<Figure size 432x288 with 1 Axes>"
      ]
     },
     "metadata": {
      "needs_background": "light"
     },
     "output_type": "display_data"
    },
    {
     "name": "stdout",
     "output_type": "stream",
     "text": [
      "glimepiride\n"
     ]
    },
    {
     "data": {
      "image/png": "[encoded data removed]",
      "text/plain": [
       "<Figure size 432x288 with 1 Axes>"
      ]
     },
     "metadata": {
      "needs_background": "light"
     },
     "output_type": "display_data"
    },
    {
     "name": "stdout",
     "output_type": "stream",
     "text": [
      "acetohexamide\n"
     ]
    },
    {
     "data": {
      "image/png": "[encoded data removed]",
      "text/plain": [
       "<Figure size 432x288 with 1 Axes>"
      ]
     },
     "metadata": {
      "needs_background": "light"
     },
     "output_type": "display_data"
    },
    {
     "name": "stdout",
     "output_type": "stream",
     "text": [
      "glipizide\n"
     ]
    },
    {
     "data": {
      "image/png": "[encoded data removed]",
      "text/plain": [
       "<Figure size 432x288 with 1 Axes>"
      ]
     },
     "metadata": {
      "needs_background": "light"
     },
     "output_type": "display_data"
    },
    {
     "name": "stdout",
     "output_type": "stream",
     "text": [
      "glyburide\n"
     ]
    },
    {
     "data": {
      "image/png": "[encoded data removed]",
      "text/plain": [
       "<Figure size 432x288 with 1 Axes>"
      ]
     },
     "metadata": {
      "needs_background": "light"
     },
     "output_type": "display_data"
    },
    {
     "name": "stdout",
     "output_type": "stream",
     "text": [
      "tolbutamide\n"
     ]
    },
    {
     "data": {
      "image/png": "[encoded data removed]",
      "text/plain": [
       "<Figure size 432x288 with 1 Axes>"
      ]
     },
     "metadata": {
      "needs_background": "light"
     },
     "output_type": "display_data"
    },
    {
     "name": "stdout",
     "output_type": "stream",
     "text": [
      "pioglitazone\n"
     ]
    },
    {
     "data": {
      "image/png": "[encoded data removed]",
      "text/plain": [
       "<Figure size 432x288 with 1 Axes>"
      ]
     },
     "metadata": {
      "needs_background": "light"
     },
     "output_type": "display_data"
    },
    {
     "name": "stdout",
     "output_type": "stream",
     "text": [
      "rosiglitazone\n"
     ]
    },
    {
     "data": {
      "image/png": "[encoded data removed]",
      "text/plain": [
       "<Figure size 432x288 with 1 Axes>"
      ]
     },
     "metadata": {
      "needs_background": "light"
     },
     "output_type": "display_data"
    },
    {
     "name": "stdout",
     "output_type": "stream",
     "text": [
      "acarbose\n"
     ]
    },
    {
     "data": {
      "image/png": "[encoded data removed]",
      "text/plain": [
       "<Figure size 432x288 with 1 Axes>"
      ]
     },
     "metadata": {
      "needs_background": "light"
     },
     "output_type": "display_data"
    },
    {
     "name": "stdout",
     "output_type": "stream",
     "text": [
      "miglitol\n"
     ]
    },
    {
     "data": {
      "image/png": "[encoded data removed]",
      "text/plain": [
       "<Figure size 432x288 with 1 Axes>"
      ]
     },
     "metadata": {
      "needs_background": "light"
     },
     "output_type": "display_data"
    },
    {
     "name": "stdout",
     "output_type": "stream",
     "text": [
      "troglitazone\n"
     ]
    },
    {
     "data": {
      "image/png": "[encoded data removed]",
      "text/plain": [
       "<Figure size 432x288 with 1 Axes>"
      ]
     },
     "metadata": {
      "needs_background": "light"
     },
     "output_type": "display_data"
    },
    {
     "name": "stdout",
     "output_type": "stream",
     "text": [
      "tolazamide\n"
     ]
    },
    {
     "data": {
      "image/png": "[encoded data removed]",
      "text/plain": [
       "<Figure size 432x288 with 1 Axes>"
      ]
     },
     "metadata": {
      "needs_background": "light"
     },
     "output_type": "display_data"
    },
    {
     "name": "stdout",
     "output_type": "stream",
     "text": [
      "examide\n"
     ]
    },
    {
     "data": {
      "image/png": "[encoded data removed]",
      "text/plain": [
       "<Figure size 432x288 with 1 Axes>"
      ]
     },
     "metadata": {
      "needs_background": "light"
     },
     "output_type": "display_data"
    },
    {
     "name": "stdout",
     "output_type": "stream",
     "text": [
      "citoglipton\n"
     ]
    },
    {
     "data": {
      "image/png": "[encoded data removed]",
      "text/plain": [
       "<Figure size 432x288 with 1 Axes>"
      ]
     },
     "metadata": {
      "needs_background": "light"
     },
     "output_type": "display_data"
    },
    {
     "name": "stdout",
     "output_type": "stream",
     "text": [
      "insulin\n"
     ]
    },
    {
     "data": {
      "image/png": "[encoded data removed]",
      "text/plain": [
       "<Figure size 432x288 with 1 Axes>"
      ]
     },
     "metadata": {
      "needs_background": "light"
     },
     "output_type": "display_data"
    },
    {
     "name": "stdout",
     "output_type": "stream",
     "text": [
      "glyburide-metformin\n"
     ]
    },
    {
     "data": {
      "image/png": "[encoded data removed]",
      "text/plain": [
       "<Figure size 432x288 with 1 Axes>"
      ]
     },
     "metadata": {
      "needs_background": "light"
     },
     "output_type": "display_data"
    },
    {
     "name": "stdout",
     "output_type": "stream",
     "text": [
      "glipizide-metformin\n"
     ]
    },
    {
     "data": {
      "image/png": "[encoded data removed]",
      "text/plain": [
       "<Figure size 432x288 with 1 Axes>"
      ]
     },
     "metadata": {
      "needs_background": "light"
     },
     "output_type": "display_data"
    },
    {
     "name": "stdout",
     "output_type": "stream",
     "text": [
      "glimepiride-pioglitazone\n"
     ]
    },
    {
     "data": {
      "image/png": "[encoded data removed]",
      "text/plain": [
       "<Figure size 432x288 with 1 Axes>"
      ]
     },
     "metadata": {
      "needs_background": "light"
     },
     "output_type": "display_data"
    },
    {
     "name": "stdout",
     "output_type": "stream",
     "text": [
      "metformin-rosiglitazone\n"
     ]
    },
    {
     "data": {
      "image/png": "[encoded data removed]",
      "text/plain": [
       "<Figure size 432x288 with 1 Axes>"
      ]
     },
     "metadata": {
      "needs_background": "light"
     },
     "output_type": "display_data"
    },
    {
     "name": "stdout",
     "output_type": "stream",
     "text": [
      "metformin-pioglitazone\n"
     ]
    },
    {
     "data": {
      "image/png": "[encoded data removed]",
      "text/plain": [
       "<Figure size 432x288 with 1 Axes>"
      ]
     },
     "metadata": {
      "needs_background": "light"
     },
     "output_type": "display_data"
    }
   ],
   "source": [
    "for i in medic_col:\n",
    "    print(i)\n",
    "    plt.figure()\n",
    "    sns.countplot(df[i],hue=df['readmitted'])\n",
    "    plt.show()\n",
    "   "
   ]
  },
  {
   "cell_type": "code",
   "execution_count": null,
   "metadata": {},
   "outputs": [],
   "source": []
  }
 ],
 "metadata": {
  "kernelspec": {
   "display_name": "Python 3",
   "language": "python",
   "name": "python3"
  },
  "language_info": {
   "codemirror_mode": {
    "name": "ipython",
    "version": 3
   },
   "file_extension": ".py",
   "mimetype": "text/x-python",
   "name": "python",
   "nbconvert_exporter": "python",
   "pygments_lexer": "ipython3",
   "version": "3.7.3"
  }
 },
 "nbformat": 4,
 "nbformat_minor": 2
}
